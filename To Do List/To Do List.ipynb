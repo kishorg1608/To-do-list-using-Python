{
 "cells": [
  {
   "cell_type": "code",
   "execution_count": 1,
   "id": "b7e00bf2",
   "metadata": {},
   "outputs": [],
   "source": [
    "# Importing all the necessary modules\n",
    "from tkinter import *"
   ]
  },
  {
   "cell_type": "code",
   "execution_count": 7,
   "id": "48109658",
   "metadata": {},
   "outputs": [],
   "source": [
    "# Initializing the python to do list GUI window\n",
    "root = Tk()\n",
    "root.title(\"Kishor Goswami's To-Do List\")\n",
    "root.geometry('300x400')\n",
    "root.resizable(0, 0)\n",
    "root.config(bg=\"PaleVioletRed\")\n",
    "\n",
    "# Heading Label\n",
    "Label(root, text=\"Kishor Goswami's To-Do List\", bg='PaleVioletRed', font=(\"Comic Sans MS\", 15), wraplength=300).place(x=35, y=0)\n",
    "\n",
    "# Listbox with all the tasks with a Scrollbar\n",
    "tasks = Listbox(root, selectbackground='Gold', bg='Silver', font=('Helvetica', 12), height=12, width=25)\n",
    "\n",
    "scroller = Scrollbar(root, orient=VERTICAL, command=tasks.yview)\n",
    "scroller.place(x=260, y=50, height=232)\n",
    "\n",
    "tasks.config(yscrollcommand=scroller.set)\n",
    "\n",
    "tasks.place(x=35, y=50)\n",
    "\n",
    "# Adding items to the Listbox\n",
    "with open('tasks.txt', 'r+') as tasks_list:\n",
    "    for task in tasks_list:\n",
    "        tasks.insert(END, task)\n",
    "    tasks_list.close()\n",
    "\n",
    "# Creating the Entry widget where the user can enter a new item\n",
    "new_item_entry = Entry(root, width=37)\n",
    "new_item_entry.place(x=35, y=310)\n",
    "\n",
    "# Creating the Buttons\n",
    "add_btn = Button(root, text='Add Item', bg='Azure', width=10, font=('Helvetica', 12),\n",
    "                 command=lambda: add_item(new_item_entry, tasks))\n",
    "add_btn.place(x=45, y=350)\n",
    "\n",
    "delete_btn = Button(root, text='Delete Item', bg='Azure', width=10, font=('Helvetica', 12),\n",
    "                 command=lambda: delete_item(tasks))\n",
    "delete_btn.place(x=150, y=350)\n",
    "\n",
    "# Finalizing the window\n",
    "root.update()\n",
    "root.mainloop()"
   ]
  },
  {
   "cell_type": "markdown",
   "id": "a170daa9",
   "metadata": {},
   "source": [
    "### Creating the add_item and delete_item functions:"
   ]
  },
  {
   "cell_type": "code",
   "execution_count": 5,
   "id": "01e60ade",
   "metadata": {},
   "outputs": [],
   "source": [
    "# Adding and Deleting items functions\n",
    "def add_item(entry: Entry, listbox: Listbox):\n",
    "    new_task = entry.get()\n",
    "\n",
    "    listbox.insert(END, new_task)\n",
    "\n",
    "    with open('tasks.txt', 'a') as tasks_list_file:\n",
    "        tasks_list_file.write(f'\\n{new_task}')\n",
    "\n",
    "\n",
    "def delete_item(listbox: Listbox):\n",
    "    listbox.delete(ACTIVE)\n",
    "\n",
    "    with open('tasks.txt', 'r+') as tasks_list_file:\n",
    "        lines = tasks_list_file.readlines()\n",
    "\n",
    "        tasks_list_file.truncate()\n",
    "\n",
    "        for line in lines:\n",
    "            if listbox.get(ACTIVE) == line[:-2]:\n",
    "                lines.remove(line)\n",
    "            tasks_list_file.write(line)\n"
   ]
  },
  {
   "cell_type": "code",
   "execution_count": null,
   "id": "817f46ba",
   "metadata": {},
   "outputs": [],
   "source": []
  },
  {
   "cell_type": "code",
   "execution_count": null,
   "id": "03447953",
   "metadata": {},
   "outputs": [],
   "source": []
  },
  {
   "cell_type": "code",
   "execution_count": null,
   "id": "6616cbe5",
   "metadata": {},
   "outputs": [],
   "source": []
  },
  {
   "cell_type": "code",
   "execution_count": null,
   "id": "f0ba6271",
   "metadata": {},
   "outputs": [],
   "source": []
  },
  {
   "cell_type": "code",
   "execution_count": null,
   "id": "fa52b43a",
   "metadata": {},
   "outputs": [],
   "source": []
  },
  {
   "cell_type": "code",
   "execution_count": null,
   "id": "8bc08c0d",
   "metadata": {},
   "outputs": [],
   "source": []
  },
  {
   "cell_type": "code",
   "execution_count": null,
   "id": "e924684d",
   "metadata": {},
   "outputs": [],
   "source": []
  }
 ],
 "metadata": {
  "kernelspec": {
   "display_name": "Python 3 (ipykernel)",
   "language": "python",
   "name": "python3"
  },
  "language_info": {
   "codemirror_mode": {
    "name": "ipython",
    "version": 3
   },
   "file_extension": ".py",
   "mimetype": "text/x-python",
   "name": "python",
   "nbconvert_exporter": "python",
   "pygments_lexer": "ipython3",
   "version": "3.9.7"
  }
 },
 "nbformat": 4,
 "nbformat_minor": 5
}
